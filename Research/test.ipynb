{
 "cells": [
  {
   "cell_type": "code",
   "execution_count": 19,
   "metadata": {},
   "outputs": [
    {
     "name": "stdout",
     "output_type": "stream",
     "text": [
      "88.0\n"
     ]
    }
   ],
   "source": [
    "from enum import Enum, auto\n",
    "\n",
    "class DiscountType(Enum):\n",
    "    STANDARD = auto()\n",
    "    SEASONAL = auto()\n",
    "    WEIGHT = auto()\n",
    "\n",
    "def get_discounted_price(cart_weight, total_price, discount_type):\n",
    "    if discount_type == DiscountType.STANDARD:\n",
    "        total_price = total_price - total_price * 0.06\n",
    "        \n",
    "    elif discount_type == DiscountType.SEASONAL:\n",
    "        total_price = total_price - total_price * 0.12\n",
    "        \n",
    "    elif discount_type == DiscountType.WEIGHT:\n",
    "        if cart_weight <= 10:\n",
    "            total_price = total_price - total_price * 0.06\n",
    "        else:\n",
    "            total_price = total_price - total_price * 0.18\n",
    "    \n",
    "    return total_price\n",
    "\n",
    "print(get_discounted_price(12, 100, DiscountType.SEASONAL))\n"
   ]
  },
  {
   "cell_type": "code",
   "execution_count": null,
   "metadata": {},
   "outputs": [],
   "source": []
  },
  {
   "cell_type": "code",
   "execution_count": 22,
   "metadata": {},
   "outputs": [
    {
     "name": "stdout",
     "output_type": "stream",
     "text": [
      "Input.txt\n",
      "Randy\n",
      "Code.py\n",
      "Stan\n",
      "Output.txt\n",
      "Randy\n",
      "[[...], [...], [...]]\n"
     ]
    }
   ],
   "source": [
    "def group_by_owners(files):\n",
    "    owner_list=[]\n",
    "    for file,owner in files.items():\n",
    "        #print(file)\n",
    "        print(owner)\n",
    "        if owner in owner_list:\n",
    "            owner_list.append(file)\n",
    "        else:\n",
    "            owner_list.append(owner)\n",
    "    return owner_list\n",
    "\n",
    "if __name__ == \"__main__\":    \n",
    "    files = {\n",
    "        'Input.txt': 'Randy',\n",
    "        'Code.py': 'Stan',\n",
    "        'Output.txt': 'Randy'\n",
    "    }   \n",
    "    print(group_by_owners(files))"
   ]
  }
 ],
 "metadata": {
  "kernelspec": {
   "display_name": "Python 3",
   "language": "python",
   "name": "python3"
  },
  "language_info": {
   "codemirror_mode": {
    "name": "ipython",
    "version": 3
   },
   "file_extension": ".py",
   "mimetype": "text/x-python",
   "name": "python",
   "nbconvert_exporter": "python",
   "pygments_lexer": "ipython3",
   "version": "3.12.5"
  }
 },
 "nbformat": 4,
 "nbformat_minor": 2
}
